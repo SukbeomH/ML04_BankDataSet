{
  "nbformat": 4,
  "nbformat_minor": 0,
  "metadata": {
    "colab": {
      "provenance": [],
      "toc_visible": true,
      "gpuType": "V28"
    },
    "kernelspec": {
      "name": "python3",
      "display_name": "Python 3"
    },
    "language_info": {
      "name": "python"
    },
    "accelerator": "TPU"
  },
  "cells": [
    {
      "cell_type": "markdown",
      "source": [],
      "metadata": {
        "id": "jAKE_A1YIM4i"
      }
    },
    {
      "cell_type": "markdown",
      "source": [
        "# 1. 데이터 로드 및 전처리"
      ],
      "metadata": {
        "id": "W02mZhm3kJWB"
      }
    },
    {
      "cell_type": "code",
      "source": [
        "from google.colab import drive\n",
        "drive.mount('/content/drive')"
      ],
      "metadata": {
        "colab": {
          "base_uri": "https://localhost:8080/"
        },
        "id": "PQRXw3sBISt3",
        "outputId": "6e9eaf87-4ede-4c17-9415-6db120ca27e8"
      },
      "execution_count": 16,
      "outputs": [
        {
          "output_type": "stream",
          "name": "stdout",
          "text": [
            "Mounted at /content/drive\n"
          ]
        }
      ]
    },
    {
      "cell_type": "code",
      "execution_count": 17,
      "metadata": {
        "id": "kxOgkgIIIMUS"
      },
      "outputs": [],
      "source": [
        "import pandas as pd\n",
        "from sklearn.model_selection import train_test_split\n",
        "from sklearn.preprocessing import StandardScaler, LabelEncoder, MinMaxScaler, RobustScaler\n",
        "import numpy as np\n",
        "from sklearn.ensemble import RandomForestClassifier\n",
        "from sklearn.model_selection import GridSearchCV\n",
        "from sklearn.metrics import classification_report, roc_auc_score\n",
        "\n",
        "import seaborn as sns\n",
        "import matplotlib.pyplot as plt"
      ]
    },
    {
      "cell_type": "code",
      "source": [
        "\n",
        "\n",
        "# Let's load the uploaded CSV file and inspect the first few rows to understand its structure.\n",
        "file_path = '/content/bank.csv'\n",
        "data = pd.read_csv(file_path)\n",
        "data_raw = data.copy()"
      ],
      "metadata": {
        "id": "7OHEhh7eIP3t"
      },
      "execution_count": 18,
      "outputs": []
    },
    {
      "cell_type": "code",
      "source": [
        "\n",
        "# Step 1: Preprocessing\n",
        "# Encode the categorical variables\n",
        "print(data.columns)\n"
      ],
      "metadata": {
        "colab": {
          "base_uri": "https://localhost:8080/"
        },
        "id": "LKofkTPqJJcb",
        "outputId": "7302f67b-aa41-42a9-8e86-bec32108a5b1"
      },
      "execution_count": 19,
      "outputs": [
        {
          "output_type": "stream",
          "name": "stdout",
          "text": [
            "Index(['age', 'job', 'marital', 'education', 'default', 'balance', 'housing',\n",
            "       'loan', 'contact', 'day', 'month', 'duration', 'campaign', 'pdays',\n",
            "       'previous', 'poutcome', 'deposit'],\n",
            "      dtype='object')\n"
          ]
        }
      ]
    },
    {
      "cell_type": "code",
      "source": [
        "data.dtypes"
      ],
      "metadata": {
        "colab": {
          "base_uri": "https://localhost:8080/",
          "height": 617
        },
        "id": "fgxFt8PcKFJz",
        "outputId": "6a3d5c30-6a57-47e4-e51c-b20972c1f522"
      },
      "execution_count": 20,
      "outputs": [
        {
          "output_type": "execute_result",
          "data": {
            "text/plain": [
              "age           int64\n",
              "job          object\n",
              "marital      object\n",
              "education    object\n",
              "default      object\n",
              "balance       int64\n",
              "housing      object\n",
              "loan         object\n",
              "contact      object\n",
              "day           int64\n",
              "month        object\n",
              "duration      int64\n",
              "campaign      int64\n",
              "pdays         int64\n",
              "previous      int64\n",
              "poutcome     object\n",
              "deposit      object\n",
              "dtype: object"
            ],
            "text/html": [
              "<div>\n",
              "<style scoped>\n",
              "    .dataframe tbody tr th:only-of-type {\n",
              "        vertical-align: middle;\n",
              "    }\n",
              "\n",
              "    .dataframe tbody tr th {\n",
              "        vertical-align: top;\n",
              "    }\n",
              "\n",
              "    .dataframe thead th {\n",
              "        text-align: right;\n",
              "    }\n",
              "</style>\n",
              "<table border=\"1\" class=\"dataframe\">\n",
              "  <thead>\n",
              "    <tr style=\"text-align: right;\">\n",
              "      <th></th>\n",
              "      <th>0</th>\n",
              "    </tr>\n",
              "  </thead>\n",
              "  <tbody>\n",
              "    <tr>\n",
              "      <th>age</th>\n",
              "      <td>int64</td>\n",
              "    </tr>\n",
              "    <tr>\n",
              "      <th>job</th>\n",
              "      <td>object</td>\n",
              "    </tr>\n",
              "    <tr>\n",
              "      <th>marital</th>\n",
              "      <td>object</td>\n",
              "    </tr>\n",
              "    <tr>\n",
              "      <th>education</th>\n",
              "      <td>object</td>\n",
              "    </tr>\n",
              "    <tr>\n",
              "      <th>default</th>\n",
              "      <td>object</td>\n",
              "    </tr>\n",
              "    <tr>\n",
              "      <th>balance</th>\n",
              "      <td>int64</td>\n",
              "    </tr>\n",
              "    <tr>\n",
              "      <th>housing</th>\n",
              "      <td>object</td>\n",
              "    </tr>\n",
              "    <tr>\n",
              "      <th>loan</th>\n",
              "      <td>object</td>\n",
              "    </tr>\n",
              "    <tr>\n",
              "      <th>contact</th>\n",
              "      <td>object</td>\n",
              "    </tr>\n",
              "    <tr>\n",
              "      <th>day</th>\n",
              "      <td>int64</td>\n",
              "    </tr>\n",
              "    <tr>\n",
              "      <th>month</th>\n",
              "      <td>object</td>\n",
              "    </tr>\n",
              "    <tr>\n",
              "      <th>duration</th>\n",
              "      <td>int64</td>\n",
              "    </tr>\n",
              "    <tr>\n",
              "      <th>campaign</th>\n",
              "      <td>int64</td>\n",
              "    </tr>\n",
              "    <tr>\n",
              "      <th>pdays</th>\n",
              "      <td>int64</td>\n",
              "    </tr>\n",
              "    <tr>\n",
              "      <th>previous</th>\n",
              "      <td>int64</td>\n",
              "    </tr>\n",
              "    <tr>\n",
              "      <th>poutcome</th>\n",
              "      <td>object</td>\n",
              "    </tr>\n",
              "    <tr>\n",
              "      <th>deposit</th>\n",
              "      <td>object</td>\n",
              "    </tr>\n",
              "  </tbody>\n",
              "</table>\n",
              "</div><br><label><b>dtype:</b> object</label>"
            ]
          },
          "metadata": {},
          "execution_count": 20
        }
      ]
    },
    {
      "cell_type": "markdown",
      "source": [
        "## 범주형데이터 전처리"
      ],
      "metadata": {
        "id": "LibPbk0wygKi"
      }
    },
    {
      "cell_type": "code",
      "source": [
        "\n",
        "label_encoders = {}\n",
        "categorical_columns = ['job', 'marital', 'education', 'default', 'housing', 'loan', 'contact', 'month', 'poutcome', 'deposit']\n",
        "\n",
        "for col in categorical_columns:\n",
        "    le = LabelEncoder()\n",
        "    data[col] = le.fit_transform(data[col])\n",
        "    label_encoders[col] = le"
      ],
      "metadata": {
        "id": "tIkL7heRJk_p"
      },
      "execution_count": 21,
      "outputs": []
    },
    {
      "cell_type": "markdown",
      "source": [
        "## 수치형 데이터 전처리"
      ],
      "metadata": {
        "id": "tkJPX9zKynYg"
      }
    },
    {
      "cell_type": "code",
      "source": [
        "plt.figure(figsize=(10, 6))\n",
        "data_raw.boxplot(column=numerical_columns)\n",
        "plt.xticks(rotation=45)\n",
        "plt.show()"
      ],
      "metadata": {
        "colab": {
          "base_uri": "https://localhost:8080/",
          "height": 567
        },
        "id": "5zd2YzoQMw9c",
        "outputId": "d0362460-626a-4c9d-c6d4-444888a3c867"
      },
      "execution_count": 22,
      "outputs": [
        {
          "output_type": "display_data",
          "data": {
            "text/plain": [
              "<Figure size 1000x600 with 1 Axes>"
            ],
            "image/png": "[encoded data removed]"
          },
          "metadata": {}
        }
      ]
    },
    {
      "cell_type": "code",
      "source": [
        "numerical_columns = ['age', 'balance', 'day', 'duration', 'campaign', 'pdays', 'previous']\n",
        "numerical_columns_log = ['balance', 'duration', 'campaign', 'pdays', 'previous']\n",
        "# Apply log transformation\n",
        "# Add a small constant to avoid log(0) issues if necessary\n",
        "for col in numerical_columns_log:\n",
        "    # Check for negative values and replace them with a small positive value before log transformation\n",
        "    data[col] = data[col].apply(lambda x: np.log1p(x) if x >= 0 else np.nan)  # log1p is equivalent to log(1 + x)\n",
        "\n"
      ],
      "metadata": {
        "id": "43R8tjyISayy"
      },
      "execution_count": 23,
      "outputs": []
    },
    {
      "cell_type": "code",
      "source": [
        "plt.figure(figsize=(10, 6))\n",
        "data.boxplot(column=numerical_columns)\n",
        "plt.xticks(rotation=45)\n",
        "plt.show()"
      ],
      "metadata": {
        "colab": {
          "base_uri": "https://localhost:8080/",
          "height": 567
        },
        "id": "ItGyNx2WSWVy",
        "outputId": "5748fd8c-211e-433d-824a-ba8c99e21130"
      },
      "execution_count": 24,
      "outputs": [
        {
          "output_type": "display_data",
          "data": {
            "text/plain": [
              "<Figure size 1000x600 with 1 Axes>"
            ],
            "image/png": "[encoded data removed]"
          },
          "metadata": {}
        }
      ]
    },
    {
      "cell_type": "code",
      "source": [
        "def remove_outliers_iqr(df, column):\n",
        "    # Calculate Q1 (25th percentile) and Q3 (75th percentile)\n",
        "    Q1 = df[column].quantile(0.25)\n",
        "    Q3 = df[column].quantile(0.75)\n",
        "    # Calculate IQR\n",
        "    IQR = Q3 - Q1\n",
        "    # Define the bounds for outliers\n",
        "    lower_bound = Q1 - 1.5 * IQR\n",
        "    upper_bound = Q3 + 1.5 * IQR\n",
        "    # Remove outliers\n",
        "    return df[(df[column] >= lower_bound) & (df[column] <= upper_bound)]\n",
        "\n",
        "# Apply the outlier removal for each numerical column\n",
        "for col in numerical_columns:\n",
        "    data = remove_outliers_iqr(data, col)"
      ],
      "metadata": {
        "id": "fz71AitqVSkA"
      },
      "execution_count": 25,
      "outputs": []
    },
    {
      "cell_type": "code",
      "source": [
        "plt.figure(figsize=(10, 6))\n",
        "data.boxplot(column=numerical_columns)\n",
        "plt.xticks(rotation=45)\n",
        "plt.show()"
      ],
      "metadata": {
        "colab": {
          "base_uri": "https://localhost:8080/",
          "height": 567
        },
        "id": "YKN2KmdYVVNa",
        "outputId": "6aeb6e64-fd0f-4398-9257-43ca573714fc"
      },
      "execution_count": 26,
      "outputs": [
        {
          "output_type": "display_data",
          "data": {
            "text/plain": [
              "<Figure size 1000x600 with 1 Axes>"
            ],
            "image/png": "[encoded data removed]"
          },
          "metadata": {}
        }
      ]
    },
    {
      "cell_type": "code",
      "source": [
        "scaler = MinMaxScaler()\n",
        "numerical_columns = ['age', 'balance', 'day', 'duration', 'campaign', 'pdays', 'previous']\n",
        "# age,job,marital,education,default,balance,housing,loan,contact,day,month,duration,campaign,pdays,previous,poutcome,deposit\n",
        "# job, marital, education, default, housing, loan, contact,  month, poutcome\n",
        "\n",
        "data[numerical_columns] = scaler.fit_transform(data[numerical_columns])\n",
        "# data[numerical_columns] = scaler.transform(data[numerical_columns])"
      ],
      "metadata": {
        "id": "rVKMNMeZSUWy"
      },
      "execution_count": 27,
      "outputs": []
    },
    {
      "cell_type": "code",
      "source": [
        "plt.figure(figsize=(10, 6))\n",
        "data.boxplot(column=numerical_columns)\n",
        "plt.xticks(rotation=45)\n",
        "plt.show()"
      ],
      "metadata": {
        "colab": {
          "base_uri": "https://localhost:8080/",
          "height": 567
        },
        "id": "1tc0XC4XTLcZ",
        "outputId": "b0002fda-4818-4170-e00a-4f1fec929500"
      },
      "execution_count": 28,
      "outputs": [
        {
          "output_type": "display_data",
          "data": {
            "text/plain": [
              "<Figure size 1000x600 with 1 Axes>"
            ],
            "image/png": "[encoded data removed]"
          },
          "metadata": {}
        }
      ]
    },
    {
      "cell_type": "code",
      "source": [
        "# Separate features (X) and target (y)\n",
        "X = data.drop(columns=['deposit'])  # All features except the target\n",
        "X = X.drop(columns=['duration'])  # All features except the target\n",
        "\n",
        "X2 = X[['pdays', 'contact', 'month', 'age', 'campaign']]\n",
        "\n",
        "y = data['deposit']  # Target variable (whether deposit was made or not)"
      ],
      "metadata": {
        "id": "MKyGcIeuUzDe"
      },
      "execution_count": 47,
      "outputs": []
    },
    {
      "cell_type": "code",
      "source": [
        "# 데이터셋을 학습 데이터와 테스트 데이터로 분리\n",
        "X_train, X_test, y_train, y_test = train_test_split(X, y, test_size=0.2, random_state=42, stratify=y)\n",
        "X2_train, X2_test, y2_train, y2_test = train_test_split(X2, y, test_size=0.2, random_state=42, stratify=y)"
      ],
      "metadata": {
        "id": "3K0Bt5GgLJ33"
      },
      "execution_count": 48,
      "outputs": []
    },
    {
      "cell_type": "markdown",
      "source": [
        "# 모델링"
      ],
      "metadata": {
        "id": "skMqZd8ukPzS"
      }
    },
    {
      "cell_type": "markdown",
      "source": [
        "### 랜덤포레스트"
      ],
      "metadata": {
        "id": "9FParnF-1O82"
      }
    },
    {
      "cell_type": "markdown",
      "source": [
        "\n",
        "Test AUC: 0.8904353455251659\n",
        "              precision    recall  f1-score   support\n",
        "\n",
        "           0       0.81      0.62      0.70       148\n",
        "           1       0.85      0.93      0.89       334\n",
        "\n",
        "    accuracy                           0.84       482\n",
        "   macro avg       0.83      0.78      0.80       482\n",
        "weighted avg       0.84      0.84      0.83       482"
      ],
      "metadata": {
        "id": "ltTK8peAYnkK"
      }
    },
    {
      "cell_type": "code",
      "source": [
        "# 랜덤 포레스트를 위한 하이퍼파라미터 그리드 설정\n",
        "param_grid = {\n",
        "    'n_estimators': [100, 200, 300, 400],  # 트리의 개수\n",
        "    'max_depth': [10, 15, 20, 25],         # 트리의 최대 깊이\n",
        "    'min_samples_split': [2, 5, 10],       # 노드를 분할하기 위한 최소 샘플 수\n",
        "    'min_samples_leaf': [1, 2, 4]          # 리프 노드에 있어야 하는 최소 샘플 수\n",
        "}\n",
        "\n",
        "# 랜덤 포레스트 모델 생성\n",
        "rf = RandomForestClassifier(random_state=42)\n",
        "\n",
        "# 그리드 서치를 위한 설정 (교차 검증은 5-fold로 설정)\n",
        "grid_search = GridSearchCV(estimator=rf, param_grid=param_grid,\n",
        "                           cv=5, n_jobs=-1, scoring='roc_auc', verbose=2)\n",
        "\n",
        "# 그리드 서치를 통한 학습\n",
        "grid_search.fit(X_train, y_train)\n",
        "\n",
        "# 최적의 하이퍼파라미터 출력\n",
        "best_params = grid_search.best_params_\n",
        "print(f\"Best Parameters: {best_params}\")\n",
        "\n",
        "# 최적의 모델로 테스트 데이터 예측 및 성능 평가\n",
        "best_model = grid_search.best_estimator_\n",
        "y_pred = best_model.predict(X_test)\n",
        "y_prob = best_model.predict_proba(X_test)[:, 1]\n",
        "\n",
        "# AUC 및 다른 성능 평가 지표 출력\n",
        "auc = roc_auc_score(y_test, y_prob)\n",
        "print(f\"Test AUC: {auc}\")\n",
        "\n",
        "# 분류 보고서 출력\n",
        "print(classification_report(y_test, y_pred))\n",
        "\n"
      ],
      "metadata": {
        "colab": {
          "base_uri": "https://localhost:8080/"
        },
        "id": "XOXLWh3hKqNd",
        "outputId": "0a5d5b10-5d18-4b4d-956e-3692e6230fc6"
      },
      "execution_count": 31,
      "outputs": [
        {
          "output_type": "stream",
          "name": "stdout",
          "text": [
            "Fitting 5 folds for each of 144 candidates, totalling 720 fits\n",
            "Best Parameters: {'max_depth': 10, 'min_samples_leaf': 2, 'min_samples_split': 10, 'n_estimators': 400}\n",
            "Test AUC: 0.8269946593299887\n",
            "              precision    recall  f1-score   support\n",
            "\n",
            "           0       0.71      0.61      0.66       148\n",
            "           1       0.84      0.89      0.86       334\n",
            "\n",
            "    accuracy                           0.80       482\n",
            "   macro avg       0.78      0.75      0.76       482\n",
            "weighted avg       0.80      0.80      0.80       482\n",
            "\n"
          ]
        }
      ]
    },
    {
      "cell_type": "code",
      "source": [
        "!pip install optuna"
      ],
      "metadata": {
        "colab": {
          "base_uri": "https://localhost:8080/"
        },
        "id": "4Vq8EiUDvQhY",
        "outputId": "3e5bb70d-9e65-41ba-cb99-0cef5f167308"
      },
      "execution_count": 32,
      "outputs": [
        {
          "output_type": "stream",
          "name": "stdout",
          "text": [
            "Requirement already satisfied: optuna in /usr/local/lib/python3.10/dist-packages (4.0.0)\n",
            "Requirement already satisfied: alembic>=1.5.0 in /usr/local/lib/python3.10/dist-packages (from optuna) (1.13.2)\n",
            "Requirement already satisfied: colorlog in /usr/local/lib/python3.10/dist-packages (from optuna) (6.8.2)\n",
            "Requirement already satisfied: numpy in /usr/local/lib/python3.10/dist-packages (from optuna) (1.26.4)\n",
            "Requirement already satisfied: packaging>=20.0 in /usr/local/lib/python3.10/dist-packages (from optuna) (24.1)\n",
            "Requirement already satisfied: sqlalchemy>=1.3.0 in /usr/local/lib/python3.10/dist-packages (from optuna) (2.0.35)\n",
            "Requirement already satisfied: tqdm in /usr/local/lib/python3.10/dist-packages (from optuna) (4.66.5)\n",
            "Requirement already satisfied: PyYAML in /usr/local/lib/python3.10/dist-packages (from optuna) (6.0.2)\n",
            "Requirement already satisfied: Mako in /usr/local/lib/python3.10/dist-packages (from alembic>=1.5.0->optuna) (1.3.5)\n",
            "Requirement already satisfied: typing-extensions>=4 in /usr/local/lib/python3.10/dist-packages (from alembic>=1.5.0->optuna) (4.12.2)\n",
            "Requirement already satisfied: greenlet!=0.4.17 in /usr/local/lib/python3.10/dist-packages (from sqlalchemy>=1.3.0->optuna) (3.1.0)\n",
            "Requirement already satisfied: MarkupSafe>=0.9.2 in /usr/local/lib/python3.10/dist-packages (from Mako->alembic>=1.5.0->optuna) (2.1.5)\n"
          ]
        }
      ]
    },
    {
      "cell_type": "code",
      "source": [
        "from sklearn.model_selection import cross_val_score\n",
        "import optuna\n",
        "def objective(trial):\n",
        "    # 하이퍼파라미터 범위 정의\n",
        "    n_estimators = trial.suggest_int('n_estimators', 50, 300)\n",
        "    max_depth = trial.suggest_int('max_depth', 2, 32)\n",
        "    min_samples_split = trial.suggest_int('min_samples_split', 2, 10)\n",
        "    min_samples_leaf = trial.suggest_int('min_samples_leaf', 1, 10)\n",
        "\n",
        "    # 랜덤 포레스트 모델 정의\n",
        "    model = RandomForestClassifier(\n",
        "        n_estimators=n_estimators,\n",
        "        max_depth=max_depth,\n",
        "        min_samples_split=min_samples_split,\n",
        "        min_samples_leaf=min_samples_leaf,\n",
        "        random_state=42\n",
        "    )\n",
        "\n",
        "    # 교차 검증으로 AUC 계산\n",
        "    auc = cross_val_score(model, X_train, y_train, cv=5, scoring='roc_auc').mean()\n",
        "\n",
        "    return auc\n",
        "\n",
        "# Optuna로 하이퍼파라미터 최적화 수행\n",
        "study = optuna.create_study(direction='maximize')  # AUC를 최대로 하는 방향으로 설정\n",
        "study.optimize(objective, n_trials=50)  # 50번의 실험을 수행\n",
        "\n",
        "# 최적의 하이퍼파라미터 출력\n",
        "best_params = study.best_params\n",
        "print(f\"Best parameters: {best_params}\")\n",
        "\n",
        "# 최적 하이퍼파라미터로 모델 학습\n",
        "best_model = RandomForestClassifier(**best_params)\n",
        "best_model.fit(X_train, y_train)\n",
        "\n",
        "# 테스트 데이터로 예측 및 평가\n",
        "y_pred = best_model.predict(X_test)\n",
        "y_prob = best_model.predict_proba(X_test)[:, 1]\n",
        "auc = roc_auc_score(y_test, y_prob)\n",
        "\n",
        "print(f\"Test AUC: {auc}\")"
      ],
      "metadata": {
        "colab": {
          "base_uri": "https://localhost:8080/"
        },
        "id": "2CU3aHt7tkxo",
        "outputId": "a77d0f22-92f1-4819-932a-ab90912344a9"
      },
      "execution_count": 33,
      "outputs": [
        {
          "output_type": "stream",
          "name": "stderr",
          "text": [
            "[I 2024-09-20 00:24:09,521] A new study created in memory with name: no-name-81921e81-bc40-46ca-9e1f-368960fa08ea\n",
            "[I 2024-09-20 00:24:10,952] Trial 0 finished with value: 0.8217998225761451 and parameters: {'n_estimators': 122, 'max_depth': 7, 'min_samples_split': 10, 'min_samples_leaf': 4}. Best is trial 0 with value: 0.8217998225761451.\n",
            "[I 2024-09-20 00:24:11,800] Trial 1 finished with value: 0.8264192974847528 and parameters: {'n_estimators': 60, 'max_depth': 32, 'min_samples_split': 10, 'min_samples_leaf': 2}. Best is trial 1 with value: 0.8264192974847528.\n",
            "[I 2024-09-20 00:24:12,789] Trial 2 finished with value: 0.8224340888516901 and parameters: {'n_estimators': 82, 'max_depth': 7, 'min_samples_split': 7, 'min_samples_leaf': 3}. Best is trial 1 with value: 0.8264192974847528.\n",
            "[I 2024-09-20 00:24:16,810] Trial 3 finished with value: 0.8238660156502136 and parameters: {'n_estimators': 294, 'max_depth': 23, 'min_samples_split': 4, 'min_samples_leaf': 4}. Best is trial 1 with value: 0.8264192974847528.\n",
            "[I 2024-09-20 00:24:18,297] Trial 4 finished with value: 0.8180670401849561 and parameters: {'n_estimators': 147, 'max_depth': 5, 'min_samples_split': 2, 'min_samples_leaf': 5}. Best is trial 1 with value: 0.8264192974847528.\n",
            "[I 2024-09-20 00:24:21,630] Trial 5 finished with value: 0.826741658384931 and parameters: {'n_estimators': 256, 'max_depth': 13, 'min_samples_split': 8, 'min_samples_leaf': 3}. Best is trial 5 with value: 0.826741658384931.\n",
            "[I 2024-09-20 00:24:25,184] Trial 6 finished with value: 0.8252273143117463 and parameters: {'n_estimators': 289, 'max_depth': 15, 'min_samples_split': 9, 'min_samples_leaf': 5}. Best is trial 5 with value: 0.826741658384931.\n",
            "[I 2024-09-20 00:24:28,363] Trial 7 finished with value: 0.8250932062026868 and parameters: {'n_estimators': 276, 'max_depth': 32, 'min_samples_split': 9, 'min_samples_leaf': 7}. Best is trial 5 with value: 0.826741658384931.\n",
            "[I 2024-09-20 00:24:31,975] Trial 8 finished with value: 0.825710775645242 and parameters: {'n_estimators': 300, 'max_depth': 19, 'min_samples_split': 2, 'min_samples_leaf': 8}. Best is trial 5 with value: 0.826741658384931.\n",
            "[I 2024-09-20 00:24:34,515] Trial 9 finished with value: 0.8258533655320821 and parameters: {'n_estimators': 209, 'max_depth': 31, 'min_samples_split': 3, 'min_samples_leaf': 6}. Best is trial 5 with value: 0.826741658384931.\n",
            "[I 2024-09-20 00:24:37,062] Trial 10 finished with value: 0.8240849415370797 and parameters: {'n_estimators': 228, 'max_depth': 13, 'min_samples_split': 6, 'min_samples_leaf': 10}. Best is trial 5 with value: 0.826741658384931.\n",
            "[I 2024-09-20 00:24:37,936] Trial 11 finished with value: 0.8240224217662687 and parameters: {'n_estimators': 59, 'max_depth': 24, 'min_samples_split': 8, 'min_samples_leaf': 1}. Best is trial 5 with value: 0.826741658384931.\n",
            "[I 2024-09-20 00:24:40,668] Trial 12 finished with value: 0.828074897831919 and parameters: {'n_estimators': 204, 'max_depth': 12, 'min_samples_split': 10, 'min_samples_leaf': 1}. Best is trial 12 with value: 0.828074897831919.\n",
            "[I 2024-09-20 00:24:43,597] Trial 13 finished with value: 0.829821503920555 and parameters: {'n_estimators': 230, 'max_depth': 11, 'min_samples_split': 6, 'min_samples_leaf': 1}. Best is trial 13 with value: 0.829821503920555.\n",
            "[I 2024-09-20 00:24:45,077] Trial 14 finished with value: 0.8050578334552256 and parameters: {'n_estimators': 186, 'max_depth': 2, 'min_samples_split': 5, 'min_samples_leaf': 1}. Best is trial 13 with value: 0.829821503920555.\n",
            "[I 2024-09-20 00:24:47,931] Trial 15 finished with value: 0.8300181851449396 and parameters: {'n_estimators': 232, 'max_depth': 11, 'min_samples_split': 6, 'min_samples_leaf': 1}. Best is trial 15 with value: 0.8300181851449396.\n",
            "[I 2024-09-20 00:24:50,842] Trial 16 finished with value: 0.8266307017950962 and parameters: {'n_estimators': 252, 'max_depth': 10, 'min_samples_split': 6, 'min_samples_leaf': 2}. Best is trial 15 with value: 0.8300181851449396.\n",
            "[I 2024-09-20 00:24:52,774] Trial 17 finished with value: 0.8267345635645231 and parameters: {'n_estimators': 158, 'max_depth': 18, 'min_samples_split': 5, 'min_samples_leaf': 3}. Best is trial 15 with value: 0.8300181851449396.\n",
            "[I 2024-09-20 00:24:55,267] Trial 18 finished with value: 0.8232952293467377 and parameters: {'n_estimators': 236, 'max_depth': 9, 'min_samples_split': 7, 'min_samples_leaf': 10}. Best is trial 15 with value: 0.8300181851449396.\n",
            "[I 2024-09-20 00:24:58,033] Trial 19 finished with value: 0.8249268246624493 and parameters: {'n_estimators': 189, 'max_depth': 21, 'min_samples_split': 5, 'min_samples_leaf': 2}. Best is trial 15 with value: 0.8300181851449396.\n",
            "[I 2024-09-20 00:25:00,083] Trial 20 finished with value: 0.810100570412892 and parameters: {'n_estimators': 231, 'max_depth': 3, 'min_samples_split': 6, 'min_samples_leaf': 8}. Best is trial 15 with value: 0.8300181851449396.\n",
            "[I 2024-09-20 00:25:02,812] Trial 21 finished with value: 0.8268880890768038 and parameters: {'n_estimators': 206, 'max_depth': 11, 'min_samples_split': 7, 'min_samples_leaf': 1}. Best is trial 15 with value: 0.8300181851449396.\n",
            "[I 2024-09-20 00:25:05,847] Trial 22 finished with value: 0.8246092114240477 and parameters: {'n_estimators': 210, 'max_depth': 15, 'min_samples_split': 4, 'min_samples_leaf': 1}. Best is trial 15 with value: 0.8300181851449396.\n",
            "[I 2024-09-20 00:25:07,949] Trial 23 finished with value: 0.8275786871594952 and parameters: {'n_estimators': 168, 'max_depth': 12, 'min_samples_split': 8, 'min_samples_leaf': 2}. Best is trial 15 with value: 0.8300181851449396.\n",
            "[I 2024-09-20 00:25:09,762] Trial 24 finished with value: 0.8259647222057742 and parameters: {'n_estimators': 132, 'max_depth': 16, 'min_samples_split': 4, 'min_samples_leaf': 1}. Best is trial 15 with value: 0.8300181851449396.\n",
            "[I 2024-09-20 00:25:12,640] Trial 25 finished with value: 0.8253073310832617 and parameters: {'n_estimators': 261, 'max_depth': 8, 'min_samples_split': 6, 'min_samples_leaf': 4}. Best is trial 15 with value: 0.8300181851449396.\n",
            "[I 2024-09-20 00:25:14,420] Trial 26 finished with value: 0.8207732073976037 and parameters: {'n_estimators': 185, 'max_depth': 6, 'min_samples_split': 7, 'min_samples_leaf': 2}. Best is trial 15 with value: 0.8300181851449396.\n",
            "[I 2024-09-20 00:25:16,976] Trial 27 finished with value: 0.826485017926424 and parameters: {'n_estimators': 218, 'max_depth': 14, 'min_samples_split': 9, 'min_samples_leaf': 3}. Best is trial 15 with value: 0.8300181851449396.\n",
            "[I 2024-09-20 00:25:19,903] Trial 28 finished with value: 0.826308927684576 and parameters: {'n_estimators': 244, 'max_depth': 11, 'min_samples_split': 5, 'min_samples_leaf': 1}. Best is trial 15 with value: 0.8300181851449396.\n",
            "[I 2024-09-20 00:25:20,844] Trial 29 finished with value: 0.8153466299869786 and parameters: {'n_estimators': 102, 'max_depth': 4, 'min_samples_split': 10, 'min_samples_leaf': 4}. Best is trial 15 with value: 0.8300181851449396.\n",
            "[I 2024-09-20 00:25:23,386] Trial 30 finished with value: 0.8255431138366601 and parameters: {'n_estimators': 199, 'max_depth': 8, 'min_samples_split': 8, 'min_samples_leaf': 2}. Best is trial 15 with value: 0.8300181851449396.\n",
            "[I 2024-09-20 00:25:25,746] Trial 31 finished with value: 0.824352090864912 and parameters: {'n_estimators': 176, 'max_depth': 13, 'min_samples_split': 10, 'min_samples_leaf': 2}. Best is trial 15 with value: 0.8300181851449396.\n",
            "[I 2024-09-20 00:25:27,899] Trial 32 finished with value: 0.8255686658590307 and parameters: {'n_estimators': 162, 'max_depth': 11, 'min_samples_split': 8, 'min_samples_leaf': 1}. Best is trial 15 with value: 0.8300181851449396.\n",
            "[I 2024-09-20 00:25:29,721] Trial 33 finished with value: 0.8258837185607437 and parameters: {'n_estimators': 136, 'max_depth': 17, 'min_samples_split': 9, 'min_samples_leaf': 3}. Best is trial 15 with value: 0.8300181851449396.\n",
            "[I 2024-09-20 00:25:31,261] Trial 34 finished with value: 0.824517458859377 and parameters: {'n_estimators': 112, 'max_depth': 12, 'min_samples_split': 7, 'min_samples_leaf': 2}. Best is trial 15 with value: 0.8300181851449396.\n",
            "[I 2024-09-20 00:25:34,530] Trial 35 finished with value: 0.8272246929623115 and parameters: {'n_estimators': 268, 'max_depth': 9, 'min_samples_split': 6, 'min_samples_leaf': 3}. Best is trial 15 with value: 0.8300181851449396.\n",
            "[I 2024-09-20 00:25:36,281] Trial 36 finished with value: 0.8234708928324711 and parameters: {'n_estimators': 161, 'max_depth': 7, 'min_samples_split': 8, 'min_samples_leaf': 1}. Best is trial 15 with value: 0.8300181851449396.\n",
            "[I 2024-09-20 00:25:38,978] Trial 37 finished with value: 0.8263158091269263 and parameters: {'n_estimators': 223, 'max_depth': 19, 'min_samples_split': 10, 'min_samples_leaf': 2}. Best is trial 15 with value: 0.8300181851449396.\n",
            "[I 2024-09-20 00:25:41,307] Trial 38 finished with value: 0.8221315721108476 and parameters: {'n_estimators': 241, 'max_depth': 6, 'min_samples_split': 9, 'min_samples_leaf': 5}. Best is trial 15 with value: 0.8300181851449396.\n",
            "[I 2024-09-20 00:25:42,301] Trial 39 finished with value: 0.8263788623428804 and parameters: {'n_estimators': 79, 'max_depth': 15, 'min_samples_split': 7, 'min_samples_leaf': 3}. Best is trial 15 with value: 0.8300181851449396.\n",
            "[I 2024-09-20 00:25:45,648] Trial 40 finished with value: 0.8274841606800786 and parameters: {'n_estimators': 273, 'max_depth': 26, 'min_samples_split': 10, 'min_samples_leaf': 1}. Best is trial 15 with value: 0.8300181851449396.\n",
            "[I 2024-09-20 00:25:49,588] Trial 41 finished with value: 0.8271233917295732 and parameters: {'n_estimators': 282, 'max_depth': 27, 'min_samples_split': 10, 'min_samples_leaf': 1}. Best is trial 15 with value: 0.8300181851449396.\n",
            "[I 2024-09-20 00:25:53,140] Trial 42 finished with value: 0.826320876855789 and parameters: {'n_estimators': 272, 'max_depth': 27, 'min_samples_split': 10, 'min_samples_leaf': 2}. Best is trial 15 with value: 0.8300181851449396.\n",
            "[I 2024-09-20 00:25:56,434] Trial 43 finished with value: 0.826222722949397 and parameters: {'n_estimators': 248, 'max_depth': 30, 'min_samples_split': 9, 'min_samples_leaf': 1}. Best is trial 15 with value: 0.8300181851449396.\n",
            "[I 2024-09-20 00:25:59,053] Trial 44 finished with value: 0.8283054528229116 and parameters: {'n_estimators': 198, 'max_depth': 22, 'min_samples_split': 9, 'min_samples_leaf': 2}. Best is trial 15 with value: 0.8300181851449396.\n",
            "[I 2024-09-20 00:26:01,537] Trial 45 finished with value: 0.8282794206999121 and parameters: {'n_estimators': 195, 'max_depth': 20, 'min_samples_split': 9, 'min_samples_leaf': 2}. Best is trial 15 with value: 0.8300181851449396.\n",
            "[I 2024-09-20 00:26:03,834] Trial 46 finished with value: 0.82604897986618 and parameters: {'n_estimators': 197, 'max_depth': 21, 'min_samples_split': 9, 'min_samples_leaf': 6}. Best is trial 15 with value: 0.8300181851449396.\n",
            "[I 2024-09-20 00:26:06,447] Trial 47 finished with value: 0.827015475777056 and parameters: {'n_estimators': 215, 'max_depth': 22, 'min_samples_split': 6, 'min_samples_leaf': 3}. Best is trial 15 with value: 0.8300181851449396.\n",
            "[I 2024-09-20 00:26:08,693] Trial 48 finished with value: 0.8240745927012968 and parameters: {'n_estimators': 177, 'max_depth': 20, 'min_samples_split': 5, 'min_samples_leaf': 2}. Best is trial 15 with value: 0.8300181851449396.\n",
            "[I 2024-09-20 00:26:11,083] Trial 49 finished with value: 0.8238740173273653 and parameters: {'n_estimators': 197, 'max_depth': 24, 'min_samples_split': 3, 'min_samples_leaf': 4}. Best is trial 15 with value: 0.8300181851449396.\n"
          ]
        },
        {
          "output_type": "stream",
          "name": "stdout",
          "text": [
            "Best parameters: {'n_estimators': 232, 'max_depth': 11, 'min_samples_split': 6, 'min_samples_leaf': 1}\n",
            "Test AUC: 0.8272171872471273\n"
          ]
        }
      ]
    },
    {
      "cell_type": "markdown",
      "source": [
        "### 앙상블"
      ],
      "metadata": {
        "id": "D1ssFHwU1VB_"
      }
    },
    {
      "cell_type": "code",
      "source": [
        "# 필요한 라이브러리 임포트\n",
        "from sklearn.ensemble import VotingClassifier, RandomForestClassifier, GradientBoostingClassifier\n",
        "from sklearn.linear_model import LogisticRegression\n",
        "from sklearn.metrics import roc_auc_score, classification_report\n",
        "from sklearn.svm import SVC\n",
        "\n",
        "# 각 개별 모델 생성\n",
        "log_clf = LogisticRegression(random_state=42)\n",
        "rf_clf = RandomForestClassifier(n_estimators=100, random_state=42)\n",
        "gb_clf = GradientBoostingClassifier(n_estimators=100, random_state=42)\n",
        "svm_clf = SVC(probability=True, random_state=42)  # SVM도 추가하고 확률 예측 사용을 위해 probability=True 설정\n",
        "\n",
        "# 투표 앙상블 모델 생성 (소프트 보팅 사용)\n",
        "voting_clf = VotingClassifier(\n",
        "    estimators=[('lr', log_clf), ('rf', rf_clf), ('gb', gb_clf), ('svm', svm_clf)],\n",
        "    voting='soft'  # 소프트 보팅 사용\n",
        ")\n",
        "\n",
        "# 투표 앙상블 모델 학습\n",
        "voting_clf.fit(X_train, y_train)\n",
        "\n",
        "# 테스트 데이터로 예측\n",
        "y_pred = voting_clf.predict(X_test)\n",
        "y_prob = voting_clf.predict_proba(X_test)[:, 1]\n",
        "\n",
        "# AUC 및 다른 성능 평가 지표 출력\n",
        "auc = roc_auc_score(y_test, y_prob)\n",
        "print(f\"Test AUC: {auc}\")\n",
        "\n",
        "# 분류 보고서 출력\n",
        "print(classification_report(y_test, y_pred))\n"
      ],
      "metadata": {
        "colab": {
          "base_uri": "https://localhost:8080/"
        },
        "id": "4PJTfpn1Ymxf",
        "outputId": "a16ca44e-65a0-4df7-d7ba-9f83f4193bbb"
      },
      "execution_count": 34,
      "outputs": [
        {
          "output_type": "stream",
          "name": "stderr",
          "text": [
            "/usr/local/lib/python3.10/dist-packages/sklearn/linear_model/_logistic.py:460: ConvergenceWarning: lbfgs failed to converge (status=1):\n",
            "STOP: TOTAL NO. of ITERATIONS REACHED LIMIT.\n",
            "\n",
            "Increase the number of iterations (max_iter) or scale the data as shown in:\n",
            "    https://scikit-learn.org/stable/modules/preprocessing.html\n",
            "Please also refer to the documentation for alternative solver options:\n",
            "    https://scikit-learn.org/stable/modules/linear_model.html#logistic-regression\n",
            "  n_iter_i = _check_optimize_result(\n"
          ]
        },
        {
          "output_type": "stream",
          "name": "stdout",
          "text": [
            "Test AUC: 0.8198535361709014\n",
            "              precision    recall  f1-score   support\n",
            "\n",
            "           0       0.71      0.57      0.63       148\n",
            "           1       0.83      0.90      0.86       334\n",
            "\n",
            "    accuracy                           0.80       482\n",
            "   macro avg       0.77      0.73      0.75       482\n",
            "weighted avg       0.79      0.80      0.79       482\n",
            "\n"
          ]
        }
      ]
    },
    {
      "cell_type": "markdown",
      "source": [
        "\n",
        "Test AUC: 0.8842854830878782\n",
        "              precision    recall  f1-score   support\n",
        "\n",
        "           0       0.79      0.59      0.68       148\n",
        "           1       0.84      0.93      0.88       334\n",
        "\n",
        "    accuracy                           0.83       482\n",
        "   macro avg       0.81      0.76      0.78       482\n",
        "weighted avg       0.82      0.83      0.82       482"
      ],
      "metadata": {
        "id": "6ESf04HoY9co"
      }
    },
    {
      "cell_type": "markdown",
      "source": [
        "### 스태킹"
      ],
      "metadata": {
        "id": "P-A9jthE1K1I"
      }
    },
    {
      "cell_type": "code",
      "source": [
        "# 필요한 라이브러리 임포트\n",
        "from sklearn.ensemble import StackingClassifier, RandomForestClassifier, GradientBoostingClassifier\n",
        "from sklearn.linear_model import LogisticRegression\n",
        "from sklearn.svm import SVC\n",
        "from xgboost import XGBClassifier\n",
        "from sklearn.metrics import roc_auc_score, classification_report\n",
        "from sklearn.model_selection import GridSearchCV\n",
        "\n",
        "# 베이스 모델들 생성\n",
        "base_learners = [\n",
        "    ('rf', RandomForestClassifier(n_estimators=100, random_state=42)),\n",
        "    ('gb', GradientBoostingClassifier(n_estimators=100, random_state=42)),\n",
        "    ('svm', SVC(probability=True, random_state=42)),\n",
        "    ('xgb', XGBClassifier(n_estimators=100, use_label_encoder=False, eval_metric='logloss', random_state=42))\n",
        "]\n",
        "\n",
        "# 메타 모델 생성 (스태킹의 최종 단계에서 사용할 모델)\n",
        "meta_learner = LogisticRegression()\n",
        "\n",
        "# 스태킹 앙상블 생성\n",
        "stacking_clf = StackingClassifier(\n",
        "    estimators=base_learners,\n",
        "    final_estimator=meta_learner,\n",
        "    cv=5\n",
        ")\n",
        "\n",
        "# 스태킹 모델 학습\n",
        "stacking_clf.fit(X_train, y_train)\n",
        "\n",
        "# 테스트 데이터로 예측\n",
        "y_pred = stacking_clf.predict(X_test)\n",
        "y_prob = stacking_clf.predict_proba(X_test)[:, 1]\n",
        "\n",
        "# AUC 및 다른 성능 평가 지표 출력\n",
        "auc = roc_auc_score(y_test, y_prob)\n",
        "print(f\"Test AUC: {auc}\")\n",
        "\n",
        "# 분류 보고서 출력\n",
        "print(classification_report(y_test, y_pred))\n"
      ],
      "metadata": {
        "colab": {
          "base_uri": "https://localhost:8080/"
        },
        "id": "7bsHcKhSY83g",
        "outputId": "1dbcee51-b972-4205-a54b-5685d2db1812"
      },
      "execution_count": 40,
      "outputs": [
        {
          "output_type": "stream",
          "name": "stderr",
          "text": [
            "/usr/local/lib/python3.10/dist-packages/xgboost/core.py:158: UserWarning: [00:29:55] WARNING: /workspace/src/learner.cc:740: \n",
            "Parameters: { \"use_label_encoder\" } are not used.\n",
            "\n",
            "  warnings.warn(smsg, UserWarning)\n",
            "/usr/local/lib/python3.10/dist-packages/xgboost/core.py:158: UserWarning: [00:30:03] WARNING: /workspace/src/learner.cc:740: \n",
            "Parameters: { \"use_label_encoder\" } are not used.\n",
            "\n",
            "  warnings.warn(smsg, UserWarning)\n",
            "/usr/local/lib/python3.10/dist-packages/xgboost/core.py:158: UserWarning: [00:30:03] WARNING: /workspace/src/learner.cc:740: \n",
            "Parameters: { \"use_label_encoder\" } are not used.\n",
            "\n",
            "  warnings.warn(smsg, UserWarning)\n",
            "/usr/local/lib/python3.10/dist-packages/xgboost/core.py:158: UserWarning: [00:30:04] WARNING: /workspace/src/learner.cc:740: \n",
            "Parameters: { \"use_label_encoder\" } are not used.\n",
            "\n",
            "  warnings.warn(smsg, UserWarning)\n",
            "/usr/local/lib/python3.10/dist-packages/xgboost/core.py:158: UserWarning: [00:30:05] WARNING: /workspace/src/learner.cc:740: \n",
            "Parameters: { \"use_label_encoder\" } are not used.\n",
            "\n",
            "  warnings.warn(smsg, UserWarning)\n",
            "/usr/local/lib/python3.10/dist-packages/xgboost/core.py:158: UserWarning: [00:30:05] WARNING: /workspace/src/learner.cc:740: \n",
            "Parameters: { \"use_label_encoder\" } are not used.\n",
            "\n",
            "  warnings.warn(smsg, UserWarning)\n"
          ]
        },
        {
          "output_type": "stream",
          "name": "stdout",
          "text": [
            "Test AUC: 0.8324769380158601\n",
            "              precision    recall  f1-score   support\n",
            "\n",
            "           0       0.73      0.59      0.65       148\n",
            "           1       0.83      0.90      0.87       334\n",
            "\n",
            "    accuracy                           0.81       482\n",
            "   macro avg       0.78      0.75      0.76       482\n",
            "weighted avg       0.80      0.81      0.80       482\n",
            "\n"
          ]
        }
      ]
    },
    {
      "cell_type": "markdown",
      "source": [
        "Test AUC: 0.8938946431461401\n",
        "              precision    recall  f1-score   support\n",
        "\n",
        "           0       0.81      0.67      0.73       148\n",
        "           1       0.86      0.93      0.90       334\n",
        "\n",
        "    accuracy                           0.85       482\n",
        "   macro avg       0.84      0.80      0.81       482\n",
        "weighted avg       0.85      0.85      0.85       482\n"
      ],
      "metadata": {
        "id": "QJMHU5rRZeLH"
      }
    },
    {
      "cell_type": "code",
      "source": [
        "# 필요한 라이브러리 임포트\n",
        "from sklearn.ensemble import RandomForestClassifier, StackingClassifier\n",
        "from sklearn.linear_model import LogisticRegression\n",
        "from sklearn.model_selection import GridSearchCV\n",
        "from sklearn.metrics import roc_auc_score, classification_report\n",
        "from xgboost import XGBClassifier\n",
        "from lightgbm import LGBMClassifier\n",
        "\n",
        "# 하이퍼파라미터 그리드 설정\n",
        "param_grid_xgb = {\n",
        "    'n_estimators': [100, 200],\n",
        "    'max_depth': [3, 5, 7],\n",
        "    'learning_rate': [0.01, 0.1],\n",
        "    'subsample': [0.8, 1.0]\n",
        "}\n",
        "\n",
        "param_grid_rf = {\n",
        "    'n_estimators': [100, 200],\n",
        "    'max_depth': [10, 20],\n",
        "    'min_samples_split': [2, 5],\n",
        "    'min_samples_leaf': [1, 2]\n",
        "}\n",
        "\n",
        "param_grid_lgb = {\n",
        "    'n_estimators': [100, 200],\n",
        "    'num_leaves': [31, 50],\n",
        "    'learning_rate': [0.01, 0.1]\n",
        "}\n",
        "\n",
        "# 그리드 서치를 통한 최적화\n",
        "xgb = XGBClassifier(use_label_encoder=False, eval_metric='logloss', random_state=42)\n",
        "rf = RandomForestClassifier(random_state=42)\n",
        "lgb = LGBMClassifier(random_state=42)\n",
        "\n",
        "# XGBoost 최적화\n",
        "grid_search_xgb = GridSearchCV(xgb, param_grid_xgb, cv=3, scoring='roc_auc', n_jobs=-1, verbose=2)\n",
        "grid_search_xgb.fit(X_train, y_train)\n",
        "best_xgb = grid_search_xgb.best_estimator_\n",
        "\n",
        "# RandomForest 최적화\n",
        "grid_search_rf = GridSearchCV(rf, param_grid_rf, cv=3, scoring='roc_auc', n_jobs=-1, verbose=2)\n",
        "grid_search_rf.fit(X_train, y_train)\n",
        "best_rf = grid_search_rf.best_estimator_\n",
        "\n",
        "# LightGBM 최적화\n",
        "grid_search_lgb = GridSearchCV(lgb, param_grid_lgb, cv=3, scoring='roc_auc', n_jobs=-1, verbose=2)\n",
        "grid_search_lgb.fit(X_train, y_train)\n",
        "best_lgb = grid_search_lgb.best_estimator_\n",
        "\n",
        "# 최적화된 모델들을 스태킹 앙상블에 결합\n",
        "stacking_clf = StackingClassifier(\n",
        "    estimators=[('xgb', best_xgb), ('rf', best_rf), ('lgb', best_lgb)],\n",
        "    final_estimator=LogisticRegression(),\n",
        "    cv=5\n",
        ")\n",
        "\n",
        "# 스태킹 모델 학습\n",
        "stacking_clf.fit(X_train, y_train)\n",
        "\n",
        "# 테스트 데이터로 예측\n",
        "y_pred = stacking_clf.predict(X_test)\n",
        "y_prob = stacking_clf.predict_proba(X_test)[:, 1]\n",
        "\n",
        "# AUC 및 다른 성능 평가 지표 출력\n",
        "auc = roc_auc_score(y_test, y_prob)\n",
        "print(f\"Test AUC: {auc}\")\n",
        "\n",
        "# 분류 보고서 출력\n",
        "print(classification_report(y_test, y_pred))\n"
      ],
      "metadata": {
        "id": "jCKDr0DWZ4fw",
        "colab": {
          "base_uri": "https://localhost:8080/",
          "height": 410
        },
        "outputId": "6b6e3f9c-833f-493f-8618-e58b62f81fa5"
      },
      "execution_count": 42,
      "outputs": [
        {
          "output_type": "error",
          "ename": "ModuleNotFoundError",
          "evalue": "No module named 'lightgbm'",
          "traceback": [
            "\u001b[0;31m---------------------------------------------------------------------------\u001b[0m",
            "\u001b[0;31mModuleNotFoundError\u001b[0m                       Traceback (most recent call last)",
            "\u001b[0;32m<ipython-input-42-8914b59e5097>\u001b[0m in \u001b[0;36m<cell line: 7>\u001b[0;34m()\u001b[0m\n\u001b[1;32m      5\u001b[0m \u001b[0;32mfrom\u001b[0m \u001b[0msklearn\u001b[0m\u001b[0;34m.\u001b[0m\u001b[0mmetrics\u001b[0m \u001b[0;32mimport\u001b[0m \u001b[0mroc_auc_score\u001b[0m\u001b[0;34m,\u001b[0m \u001b[0mclassification_report\u001b[0m\u001b[0;34m\u001b[0m\u001b[0;34m\u001b[0m\u001b[0m\n\u001b[1;32m      6\u001b[0m \u001b[0;32mfrom\u001b[0m \u001b[0mxgboost\u001b[0m \u001b[0;32mimport\u001b[0m \u001b[0mXGBClassifier\u001b[0m\u001b[0;34m\u001b[0m\u001b[0;34m\u001b[0m\u001b[0m\n\u001b[0;32m----> 7\u001b[0;31m \u001b[0;32mfrom\u001b[0m \u001b[0mlightgbm\u001b[0m \u001b[0;32mimport\u001b[0m \u001b[0mLGBMClassifier\u001b[0m\u001b[0;34m\u001b[0m\u001b[0;34m\u001b[0m\u001b[0m\n\u001b[0m\u001b[1;32m      8\u001b[0m \u001b[0;34m\u001b[0m\u001b[0m\n\u001b[1;32m      9\u001b[0m \u001b[0;31m# 하이퍼파라미터 그리드 설정\u001b[0m\u001b[0;34m\u001b[0m\u001b[0;34m\u001b[0m\u001b[0m\n",
            "\u001b[0;31mModuleNotFoundError\u001b[0m: No module named 'lightgbm'",
            "",
            "\u001b[0;31m---------------------------------------------------------------------------\u001b[0;32m\nNOTE: If your import is failing due to a missing package, you can\nmanually install dependencies using either !pip or !apt.\n\nTo view examples of installing some common dependencies, click the\n\"Open Examples\" button below.\n\u001b[0;31m---------------------------------------------------------------------------\u001b[0m\n"
          ],
          "errorDetails": {
            "actions": [
              {
                "action": "open_url",
                "actionText": "Open Examples",
                "url": "/notebooks/snippets/importing_libraries.ipynb"
              }
            ]
          }
        }
      ]
    },
    {
      "cell_type": "markdown",
      "source": [
        "Test AUC: 0.8942587797378216\n",
        "              precision    recall  f1-score   support\n",
        "\n",
        "           0       0.81      0.68      0.74       148\n",
        "           1       0.87      0.93      0.90       334\n",
        "\n",
        "    accuracy                           0.85       482\n",
        "   macro avg       0.84      0.80      0.82       482\n",
        "weighted avg       0.85      0.85      0.85       482\n"
      ],
      "metadata": {
        "id": "1Qa49oOSbLOI"
      }
    },
    {
      "cell_type": "markdown",
      "source": [
        "## 변수선택\n"
      ],
      "metadata": {
        "id": "JiO6Yj3Aea2B"
      }
    },
    {
      "cell_type": "markdown",
      "source": [
        "### 랜덤포레스트의 변수중요도"
      ],
      "metadata": {
        "id": "GMDTpYul1s9m"
      }
    },
    {
      "cell_type": "code",
      "source": [
        "from sklearn.ensemble import RandomForestClassifier\n",
        "from sklearn.feature_selection import SelectFromModel\n",
        "from sklearn.model_selection import GridSearchCV\n",
        "from sklearn.metrics import roc_auc_score, classification_report\n",
        "\n",
        "# 1. 랜덤 포레스트를 사용하여 특성 중요도 기반 변수 선택\n",
        "rf = RandomForestClassifier(n_estimators=100, random_state=42)\n",
        "rf.fit(X_train, y_train)\n",
        "\n",
        "# 특성 중요도 기반 선택 (중요도가 중간 이상인 특성 선택)\n",
        "selector = SelectFromModel(rf, threshold='median')  # 중요도가 중간 이상인 특성 선택\n",
        "X_train_selected = selector.transform(X_train)\n",
        "X_test_selected = selector.transform(X_test)\n",
        "\n",
        "print(f\"Original number of features: {X_train.shape[1]}\")\n",
        "print(f\"Reduced number of features: {X_train_selected.shape[1]}\")\n",
        "\n",
        "# 2. 그리드 서치를 통한 최적의 하이퍼파라미터 찾기\n",
        "param_grid = {\n",
        "    'n_estimators': [100, 200],\n",
        "    'max_depth': [10, 20],\n",
        "    'min_samples_split': [2, 5],\n",
        "    'min_samples_leaf': [1, 2]\n",
        "}\n",
        "\n",
        "grid_search_rf = GridSearchCV(RandomForestClassifier(random_state=42),\n",
        "                              param_grid,\n",
        "                              cv=5,\n",
        "                              scoring='roc_auc',\n",
        "                              n_jobs=-1,\n",
        "                              verbose=2)\n",
        "grid_search_rf.fit(X_train_selected, y_train)\n",
        "\n",
        "# 최적의 하이퍼파라미터로 모델 학습 및 평가\n",
        "best_rf = grid_search_rf.best_estimator_\n",
        "y_pred = best_rf.predict(X_test_selected)\n",
        "y_prob = best_rf.predict_proba(X_test_selected)[:, 1]\n",
        "\n",
        "# AUC 및 성능 평가\n",
        "auc = roc_auc_score(y_test, y_prob)\n",
        "print(f\"Test AUC with selected features: {auc}\")\n",
        "print(classification_report(y_test, y_pred))\n"
      ],
      "metadata": {
        "id": "40ntpv9Yedho",
        "colab": {
          "base_uri": "https://localhost:8080/"
        },
        "outputId": "c77e515f-be49-4602-ae1e-52be0e439f4d"
      },
      "execution_count": 43,
      "outputs": [
        {
          "output_type": "stream",
          "name": "stdout",
          "text": [
            "Original number of features: 15\n",
            "Reduced number of features: 8\n",
            "Fitting 5 folds for each of 16 candidates, totalling 80 fits\n"
          ]
        },
        {
          "output_type": "stream",
          "name": "stderr",
          "text": [
            "/usr/local/lib/python3.10/dist-packages/sklearn/base.py:458: UserWarning: X has feature names, but SelectFromModel was fitted without feature names\n",
            "  warnings.warn(\n",
            "/usr/local/lib/python3.10/dist-packages/sklearn/base.py:458: UserWarning: X has feature names, but SelectFromModel was fitted without feature names\n",
            "  warnings.warn(\n"
          ]
        },
        {
          "output_type": "stream",
          "name": "stdout",
          "text": [
            "Test AUC with selected features: 0.8276015536494579\n",
            "              precision    recall  f1-score   support\n",
            "\n",
            "           0       0.67      0.60      0.64       148\n",
            "           1       0.83      0.87      0.85       334\n",
            "\n",
            "    accuracy                           0.79       482\n",
            "   macro avg       0.75      0.74      0.74       482\n",
            "weighted avg       0.78      0.79      0.78       482\n",
            "\n"
          ]
        }
      ]
    },
    {
      "cell_type": "markdown",
      "source": [
        "### pca + 랜덤포레스트"
      ],
      "metadata": {
        "id": "xuIFzcXu1xY3"
      }
    },
    {
      "cell_type": "code",
      "source": [
        "from sklearn.decomposition import PCA\n",
        "\n",
        "# 1. PCA를 사용하여 차원 축소 (설명된 분산이 95%가 될 때까지 주성분 선택)\n",
        "pca = PCA(n_components=0.95, random_state=42)  # 95%의 분산을 유지하는 주성분 선택\n",
        "X_train_pca = pca.fit_transform(X_train)\n",
        "X_test_pca = pca.transform(X_test)\n",
        "\n",
        "print(f\"Original number of features: {X_train.shape[1]}\")\n",
        "print(f\"Reduced number of features (PCA): {X_train_pca.shape[1]}\")\n",
        "\n",
        "# 2. 그리드 서치를 통한 최적의 하이퍼파라미터 찾기\n",
        "param_grid = {\n",
        "    'n_estimators': [100, 200],\n",
        "    'max_depth': [10, 20],\n",
        "    'min_samples_split': [2, 5],\n",
        "    'min_samples_leaf': [1, 2]\n",
        "}\n",
        "\n",
        "grid_search_rf_pca = GridSearchCV(RandomForestClassifier(random_state=42),\n",
        "                                  param_grid,\n",
        "                                  cv=5,\n",
        "                                  scoring='roc_auc',\n",
        "                                  n_jobs=-1,\n",
        "                                  verbose=2)\n",
        "grid_search_rf_pca.fit(X_train_pca, y_train)\n",
        "\n",
        "# 최적의 하이퍼파라미터로 모델 학습 및 평가\n",
        "best_rf_pca = grid_search_rf_pca.best_estimator_\n",
        "y_pred_pca = best_rf_pca.predict(X_test_pca)\n",
        "y_prob_pca = best_rf_pca.predict_proba(X_test_pca)[:, 1]\n",
        "\n",
        "# AUC 및 성능 평가\n",
        "auc_pca = roc_auc_score(y_test, y_prob_pca)\n",
        "print(f\"Test AUC with PCA features: {auc_pca}\")\n",
        "print(classification_report(y_test, y_pred_pca))\n"
      ],
      "metadata": {
        "id": "G0bPUE1Heixm",
        "colab": {
          "base_uri": "https://localhost:8080/"
        },
        "outputId": "04c9a37d-124d-4342-ee93-7a7b94e2ed6a"
      },
      "execution_count": 44,
      "outputs": [
        {
          "output_type": "stream",
          "name": "stdout",
          "text": [
            "Original number of features: 15\n",
            "Reduced number of features (PCA): 4\n",
            "Fitting 5 folds for each of 16 candidates, totalling 80 fits\n",
            "Test AUC with PCA features: 0.777027027027027\n",
            "              precision    recall  f1-score   support\n",
            "\n",
            "           0       0.65      0.53      0.59       148\n",
            "           1       0.81      0.87      0.84       334\n",
            "\n",
            "    accuracy                           0.77       482\n",
            "   macro avg       0.73      0.70      0.71       482\n",
            "weighted avg       0.76      0.77      0.76       482\n",
            "\n"
          ]
        }
      ]
    },
    {
      "cell_type": "code",
      "source": [
        "from sklearn.ensemble import RandomForestClassifier\n",
        "from sklearn.feature_selection import SelectFromModel\n",
        "from sklearn.model_selection import GridSearchCV\n",
        "from sklearn.metrics import roc_auc_score, classification_report\n",
        "\n",
        "# 1. 그리드 서치를 통한 랜덤 포레스트 최적의 하이퍼파라미터 찾기\n",
        "param_grid = {\n",
        "    'n_estimators': [100, 200, 300],  # 트리의 수\n",
        "    'max_depth': [10, 20, 30, None],  # 트리의 최대 깊이\n",
        "    'min_samples_split': [2, 5, 10],  # 노드를 분할하기 위한 최소 샘플 수\n",
        "    'min_samples_leaf': [1, 2, 4],    # 리프 노드에 있어야 하는 최소 샘플 수\n",
        "    'max_features': ['auto', 'sqrt', 'log2']  # 각 노드에서 고려할 최대 특성 수\n",
        "}\n",
        "\n",
        "# 그리드 서치로 랜덤 포레스트 모델 최적화\n",
        "grid_search_rf = GridSearchCV(\n",
        "    estimator=RandomForestClassifier(random_state=42),\n",
        "    param_grid=param_grid,\n",
        "    cv=5,\n",
        "    scoring='roc_auc',\n",
        "    n_jobs=-1,\n",
        "    verbose=2\n",
        ")\n",
        "\n",
        "# 그리드 서치로 최적의 랜덤 포레스트 모델 찾기\n",
        "grid_search_rf.fit(X_train, y_train)\n",
        "best_rf = grid_search_rf.best_estimator_\n",
        "\n",
        "print(f\"Best Hyperparameters: {grid_search_rf.best_params_}\")\n",
        "\n",
        "# 2. 최적화된 랜덤 포레스트를 사용하여 특성 중요도 기반 변수 선택\n",
        "selector = SelectFromModel(best_rf, threshold='median')  # 최적화된 모델로 선택\n",
        "X_train_selected = selector.transform(X_train)\n",
        "X_test_selected = selector.transform(X_test)\n",
        "\n",
        "print(f\"Original number of features: {X_train.shape[1]}\")\n",
        "print(f\"Reduced number of features: {X_train_selected.shape[1]}\")\n",
        "\n",
        "# 3. 선택된 변수를 사용하여 최적화된 랜덤 포레스트로 모델 학습 및 평가\n",
        "# 최적화된 랜덤 포레스트로 학습\n",
        "best_rf.fit(X_train_selected, y_train)\n",
        "y_pred = best_rf.predict(X_test_selected)\n",
        "y_prob = best_rf.predict_proba(X_test_selected)[:, 1]\n",
        "\n",
        "# AUC 및 성능 평가\n",
        "auc = roc_auc_score(y_test, y_prob)\n",
        "print(f\"Test AUC with selected features: {auc}\")\n",
        "print(classification_report(y_test, y_pred))\n"
      ],
      "metadata": {
        "id": "3-jDs4uKgM0J",
        "colab": {
          "base_uri": "https://localhost:8080/"
        },
        "outputId": "d7c871f7-6224-4899-c8b1-3e4d924f60f1"
      },
      "execution_count": 45,
      "outputs": [
        {
          "output_type": "stream",
          "name": "stdout",
          "text": [
            "Fitting 5 folds for each of 324 candidates, totalling 1620 fits\n"
          ]
        },
        {
          "output_type": "stream",
          "name": "stderr",
          "text": [
            "/usr/local/lib/python3.10/dist-packages/sklearn/model_selection/_validation.py:425: FitFailedWarning: \n",
            "540 fits failed out of a total of 1620.\n",
            "The score on these train-test partitions for these parameters will be set to nan.\n",
            "If these failures are not expected, you can try to debug them by setting error_score='raise'.\n",
            "\n",
            "Below are more details about the failures:\n",
            "--------------------------------------------------------------------------------\n",
            "257 fits failed with the following error:\n",
            "Traceback (most recent call last):\n",
            "  File \"/usr/local/lib/python3.10/dist-packages/sklearn/model_selection/_validation.py\", line 729, in _fit_and_score\n",
            "    estimator.fit(X_train, y_train, **fit_params)\n",
            "  File \"/usr/local/lib/python3.10/dist-packages/sklearn/base.py\", line 1145, in wrapper\n",
            "    estimator._validate_params()\n",
            "  File \"/usr/local/lib/python3.10/dist-packages/sklearn/base.py\", line 638, in _validate_params\n",
            "    validate_parameter_constraints(\n",
            "  File \"/usr/local/lib/python3.10/dist-packages/sklearn/utils/_param_validation.py\", line 96, in validate_parameter_constraints\n",
            "    raise InvalidParameterError(\n",
            "sklearn.utils._param_validation.InvalidParameterError: The 'max_features' parameter of RandomForestClassifier must be an int in the range [1, inf), a float in the range (0.0, 1.0], a str among {'log2', 'sqrt'} or None. Got 'auto' instead.\n",
            "\n",
            "--------------------------------------------------------------------------------\n",
            "283 fits failed with the following error:\n",
            "Traceback (most recent call last):\n",
            "  File \"/usr/local/lib/python3.10/dist-packages/sklearn/model_selection/_validation.py\", line 729, in _fit_and_score\n",
            "    estimator.fit(X_train, y_train, **fit_params)\n",
            "  File \"/usr/local/lib/python3.10/dist-packages/sklearn/base.py\", line 1145, in wrapper\n",
            "    estimator._validate_params()\n",
            "  File \"/usr/local/lib/python3.10/dist-packages/sklearn/base.py\", line 638, in _validate_params\n",
            "    validate_parameter_constraints(\n",
            "  File \"/usr/local/lib/python3.10/dist-packages/sklearn/utils/_param_validation.py\", line 96, in validate_parameter_constraints\n",
            "    raise InvalidParameterError(\n",
            "sklearn.utils._param_validation.InvalidParameterError: The 'max_features' parameter of RandomForestClassifier must be an int in the range [1, inf), a float in the range (0.0, 1.0], a str among {'sqrt', 'log2'} or None. Got 'auto' instead.\n",
            "\n",
            "  warnings.warn(some_fits_failed_message, FitFailedWarning)\n",
            "/usr/local/lib/python3.10/dist-packages/sklearn/model_selection/_search.py:979: UserWarning: One or more of the test scores are non-finite: [       nan        nan        nan        nan        nan        nan\n",
            "        nan        nan        nan        nan        nan        nan\n",
            "        nan        nan        nan        nan        nan        nan\n",
            "        nan        nan        nan        nan        nan        nan\n",
            "        nan        nan        nan 0.82262378 0.82358409 0.8244846\n",
            " 0.82268993 0.82504093 0.82466144 0.82376418 0.82567781 0.82541583\n",
            " 0.82365034 0.82450092 0.82484686 0.82423191 0.82510174 0.82568677\n",
            " 0.82722299 0.8273062  0.82759512 0.82198605 0.82270609 0.82420203\n",
            " 0.82198605 0.82270609 0.82420203 0.82534409 0.82640436 0.8261713\n",
            " 0.82262378 0.82358409 0.8244846  0.82268993 0.82504093 0.82466144\n",
            " 0.82376418 0.82567781 0.82541583 0.82365034 0.82450092 0.82484686\n",
            " 0.82423191 0.82510174 0.82568677 0.82722299 0.8273062  0.82759512\n",
            " 0.82198605 0.82270609 0.82420203 0.82198605 0.82270609 0.82420203\n",
            " 0.82534409 0.82640436 0.8261713         nan        nan        nan\n",
            "        nan        nan        nan        nan        nan        nan\n",
            "        nan        nan        nan        nan        nan        nan\n",
            "        nan        nan        nan        nan        nan        nan\n",
            "        nan        nan        nan        nan        nan        nan\n",
            " 0.82135968 0.82558448 0.82544229 0.82524332 0.82679068 0.82638814\n",
            " 0.82544053 0.82686675 0.8272735  0.82448214 0.82702823 0.8264193\n",
            " 0.82365493 0.82462457 0.82564415 0.82592959 0.82657384 0.82599302\n",
            " 0.82156943 0.82405128 0.82435396 0.82156943 0.82405128 0.82435396\n",
            " 0.82349805 0.82607416 0.82571798 0.82135968 0.82558448 0.82544229\n",
            " 0.82524332 0.82679068 0.82638814 0.82544053 0.82686675 0.8272735\n",
            " 0.82448214 0.82702823 0.8264193  0.82365493 0.82462457 0.82564415\n",
            " 0.82592959 0.82657384 0.82599302 0.82156943 0.82405128 0.82435396\n",
            " 0.82156943 0.82405128 0.82435396 0.82349805 0.82607416 0.82571798\n",
            "        nan        nan        nan        nan        nan        nan\n",
            "        nan        nan        nan        nan        nan        nan\n",
            "        nan        nan        nan        nan        nan        nan\n",
            "        nan        nan        nan        nan        nan        nan\n",
            "        nan        nan        nan 0.8204525  0.82470971 0.82482046\n",
            " 0.82566461 0.82805324 0.82720794 0.82603068 0.82730556 0.82753558\n",
            " 0.8238359  0.82663556 0.82604621 0.82429347 0.82536836 0.82570629\n",
            " 0.82696731 0.82702332 0.82639716 0.8213536  0.82403224 0.82437946\n",
            " 0.8213536  0.82403224 0.82437946 0.823302   0.82599814 0.82576865\n",
            " 0.8204525  0.82470971 0.82482046 0.82566461 0.82805324 0.82720794\n",
            " 0.82603068 0.82730556 0.82753558 0.8238359  0.82663556 0.82604621\n",
            " 0.82429347 0.82536836 0.82570629 0.82696731 0.82702332 0.82639716\n",
            " 0.8213536  0.82403224 0.82437946 0.8213536  0.82403224 0.82437946\n",
            " 0.823302   0.82599814 0.82576865        nan        nan        nan\n",
            "        nan        nan        nan        nan        nan        nan\n",
            "        nan        nan        nan        nan        nan        nan\n",
            "        nan        nan        nan        nan        nan        nan\n",
            "        nan        nan        nan        nan        nan        nan\n",
            " 0.8204525  0.82469398 0.82481101 0.82566461 0.82805324 0.82720794\n",
            " 0.82603068 0.82730556 0.82753558 0.8238359  0.82663556 0.82604621\n",
            " 0.82429347 0.82536836 0.82570629 0.82696731 0.82702332 0.82639716\n",
            " 0.8213536  0.82403224 0.82437946 0.8213536  0.82403224 0.82437946\n",
            " 0.823302   0.82599814 0.82576865 0.8204525  0.82469398 0.82481101\n",
            " 0.82566461 0.82805324 0.82720794 0.82603068 0.82730556 0.82753558\n",
            " 0.8238359  0.82663556 0.82604621 0.82429347 0.82536836 0.82570629\n",
            " 0.82696731 0.82702332 0.82639716 0.8213536  0.82403224 0.82437946\n",
            " 0.8213536  0.82403224 0.82437946 0.823302   0.82599814 0.82576865]\n",
            "  warnings.warn(\n"
          ]
        },
        {
          "output_type": "stream",
          "name": "stdout",
          "text": [
            "Best Hyperparameters: {'max_depth': 30, 'max_features': 'sqrt', 'min_samples_leaf': 1, 'min_samples_split': 5, 'n_estimators': 200}\n",
            "Original number of features: 15\n",
            "Reduced number of features: 8\n"
          ]
        },
        {
          "output_type": "stream",
          "name": "stderr",
          "text": [
            "/usr/local/lib/python3.10/dist-packages/sklearn/base.py:458: UserWarning: X has feature names, but SelectFromModel was fitted without feature names\n",
            "  warnings.warn(\n",
            "/usr/local/lib/python3.10/dist-packages/sklearn/base.py:458: UserWarning: X has feature names, but SelectFromModel was fitted without feature names\n",
            "  warnings.warn(\n"
          ]
        },
        {
          "output_type": "stream",
          "name": "stdout",
          "text": [
            "Test AUC with selected features: 0.833953714193235\n",
            "              precision    recall  f1-score   support\n",
            "\n",
            "           0       0.69      0.61      0.65       148\n",
            "           1       0.84      0.88      0.86       334\n",
            "\n",
            "    accuracy                           0.80       482\n",
            "   macro avg       0.77      0.75      0.76       482\n",
            "weighted avg       0.79      0.80      0.80       482\n",
            "\n"
          ]
        }
      ]
    },
    {
      "cell_type": "code",
      "source": [
        "# 랜덤 포레스트를 위한 하이퍼파라미터 그리드 설정\n",
        "param_grid = {\n",
        "    'n_estimators': [100, 200, 300, 400],  # 트리의 개수\n",
        "    'max_depth': [10, 15, 20, 25],         # 트리의 최대 깊이\n",
        "    'min_samples_split': [2, 5, 10],       # 노드를 분할하기 위한 최소 샘플 수\n",
        "    'min_samples_leaf': [1, 2, 4]          # 리프 노드에 있어야 하는 최소 샘플 수\n",
        "}\n",
        "\n",
        "# 랜덤 포레스트 모델 생성\n",
        "rf = RandomForestClassifier(random_state=42)\n",
        "\n",
        "# 그리드 서치를 위한 설정 (교차 검증은 5-fold로 설정)\n",
        "grid_search = GridSearchCV(estimator=rf, param_grid=param_grid,\n",
        "                           cv=5, n_jobs=-1, scoring='roc_auc', verbose=2)\n",
        "\n",
        "# 그리드 서치를 통한 학습\n",
        "grid_search.fit(X2_train, y2_train)\n",
        "\n",
        "# 최적의 하이퍼파라미터 출력\n",
        "best_params = grid_search.best_params_\n",
        "print(f\"Best Parameters: {best_params}\")\n",
        "\n",
        "# 최적의 모델로 테스트 데이터 예측 및 성능 평가\n",
        "best_model = grid_search.best_estimator_\n",
        "y2_pred = best_model.predict(X2_test)\n",
        "y2_prob = best_model.predict_proba(X2_test)[:, 1]\n",
        "\n",
        "# AUC 및 다른 성능 평가 지표 출력\n",
        "auc = roc_auc_score(y2_test, y2_prob)\n",
        "print(f\"Test AUC: {auc}\")\n",
        "\n",
        "# 분류 보고서 출력\n",
        "print(classification_report(y2_test, y2_pred))\n",
        "\n"
      ],
      "metadata": {
        "colab": {
          "base_uri": "https://localhost:8080/"
        },
        "id": "lqKbBKZ330KO",
        "outputId": "fd22859b-1823-4f89-f8ed-93ea9f4f3926"
      },
      "execution_count": 49,
      "outputs": [
        {
          "output_type": "stream",
          "name": "stdout",
          "text": [
            "Fitting 5 folds for each of 144 candidates, totalling 720 fits\n",
            "Best Parameters: {'max_depth': 10, 'min_samples_leaf': 4, 'min_samples_split': 2, 'n_estimators': 300}\n",
            "Test AUC: 0.7897920375465285\n",
            "              precision    recall  f1-score   support\n",
            "\n",
            "           0       0.66      0.59      0.62       148\n",
            "           1       0.83      0.87      0.85       334\n",
            "\n",
            "    accuracy                           0.78       482\n",
            "   macro avg       0.74      0.73      0.73       482\n",
            "weighted avg       0.77      0.78      0.78       482\n",
            "\n"
          ]
        }
      ]
    },
    {
      "cell_type": "markdown",
      "source": [
        "Test AUC with selected features: 0.8926403948859039\n",
        "              precision    recall  f1-score   support\n",
        "\n",
        "           0       0.81      0.63      0.71       148\n",
        "           1       0.85      0.93      0.89       334\n",
        "\n",
        "    accuracy                           0.84       482\n",
        "   macro avg       0.83      0.78      0.80       482\n",
        "weighted avg       0.84      0.84      0.83       482"
      ],
      "metadata": {
        "id": "C3RgYhPOkDfq"
      }
    },
    {
      "cell_type": "markdown",
      "source": [
        "89의 늪.....아...."
      ],
      "metadata": {
        "id": "it5d52IDkEuP"
      }
    }
  ]
}